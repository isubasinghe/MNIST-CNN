{
 "cells": [
  {
   "cell_type": "code",
   "execution_count": 1,
   "metadata": {},
   "outputs": [
    {
     "name": "stderr",
     "output_type": "stream",
     "text": [
      "C:\\ProgramData\\Anaconda3\\lib\\site-packages\\h5py\\__init__.py:34: FutureWarning: Conversion of the second argument of issubdtype from `float` to `np.floating` is deprecated. In future, it will be treated as `np.float64 == np.dtype(float).type`.\n",
      "  from ._conv import register_converters as _register_converters\n"
     ]
    }
   ],
   "source": [
    "import tensorflow as tf\n",
    "import numpy as np\n",
    "from tensorflow.examples.tutorials.mnist import input_data"
   ]
  },
  {
   "cell_type": "code",
   "execution_count": 2,
   "metadata": {},
   "outputs": [
    {
     "name": "stdout",
     "output_type": "stream",
     "text": [
      "Extracting MNIST\\train-images-idx3-ubyte.gz\n",
      "Extracting MNIST\\train-labels-idx1-ubyte.gz\n",
      "Extracting MNIST\\t10k-images-idx3-ubyte.gz\n",
      "Extracting MNIST\\t10k-labels-idx1-ubyte.gz\n"
     ]
    }
   ],
   "source": [
    "mnist = input_data.read_data_sets('MNIST', one_hot=True)"
   ]
  },
  {
   "cell_type": "code",
   "execution_count": 3,
   "metadata": {},
   "outputs": [
    {
     "data": {
      "text/plain": [
       "(784,)"
      ]
     },
     "execution_count": 3,
     "metadata": {},
     "output_type": "execute_result"
    }
   ],
   "source": [
    "mnist.train.images[0].shape"
   ]
  },
  {
   "cell_type": "code",
   "execution_count": 4,
   "metadata": {
    "collapsed": true
   },
   "outputs": [],
   "source": [
    "learning_rate = 0.01\n",
    "num_classes = 10\n",
    "no_epochs = 10000"
   ]
  },
  {
   "cell_type": "code",
   "execution_count": 5,
   "metadata": {},
   "outputs": [],
   "source": [
    "X = tf.placeholder(tf.float32, shape=[None, 28, 28, 1])\n",
    "Y = tf.placeholder(tf.float32, shape=[None, num_classes])"
   ]
  },
  {
   "cell_type": "code",
   "execution_count": 6,
   "metadata": {},
   "outputs": [],
   "source": [
    "input_layer = tf.layers.conv2d(X, filters=32, kernel_size=[3,3], activation=tf.nn.leaky_relu)\n",
    "pool_layer1 = tf.layers.max_pooling2d(input_layer, pool_size=[2, 2], strides=2, padding='same')\n",
    "conv_layer2 = tf.layers.conv2d(pool_layer1, filters=64, kernel_size=[3, 3], activation=tf.nn.leaky_relu)\n",
    "pool_layer2 = tf.layers.max_pooling2d(conv_layer2, pool_size=[2, 2], strides=2, padding='same')\n",
    "flatten_layer = tf.layers.flatten(pool_layer2)\n",
    "dense_layer = tf.layers.dense(flatten_layer, 64*7*7, activation=tf.nn.softmax)\n",
    "output_layer = tf.layers.dense(dense_layer, num_classes, activation=tf.nn.softmax)"
   ]
  },
  {
   "cell_type": "code",
   "execution_count": 7,
   "metadata": {
    "collapsed": true
   },
   "outputs": [],
   "source": [
    "loss = tf.nn.softmax_cross_entropy_with_logits_v2(labels=Y, logits=output_layer)\n",
    "optimiser = tf.train.AdamOptimizer()"
   ]
  },
  {
   "cell_type": "code",
   "execution_count": 8,
   "metadata": {
    "collapsed": true
   },
   "outputs": [],
   "source": [
    "\n",
    "train = optimiser.minimize(loss)\n",
    "init = tf.global_variables_initializer()"
   ]
  },
  {
   "cell_type": "code",
   "execution_count": null,
   "metadata": {
    "collapsed": true
   },
   "outputs": [],
   "source": [
    "saver = tf.train.Saver()\n",
    "saver_df = saver.as_saver_def()"
   ]
  },
  {
   "cell_type": "code",
   "execution_count": null,
   "metadata": {},
   "outputs": [
    {
     "name": "stdout",
     "output_type": "stream",
     "text": [
      "EPOCH: 0\n",
      "Accuracy: 0.0\n",
      "EPOCH: 1000\n",
      "Accuracy: 0.8\n",
      "EPOCH: 2000\n",
      "Accuracy: 0.8\n",
      "EPOCH: 3000\n",
      "Accuracy: 0.8\n",
      "EPOCH: 4000\n",
      "Accuracy: 0.9\n",
      "EPOCH: 5000\n",
      "Accuracy: 0.9\n",
      "EPOCH: 6000\n",
      "Accuracy: 0.9\n",
      "EPOCH: 7000\n",
      "Accuracy: 1.0\n",
      "EPOCH: 8000\n",
      "Accuracy: 0.9\n",
      "EPOCH: 9000\n",
      "Accuracy: 1.0\n"
     ]
    }
   ],
   "source": [
    "with tf.Session() as sess:\n",
    "    sess.run(init)\n",
    "    for i in range(no_epochs):\n",
    "        if i%int(no_epochs*0.1)==0:\n",
    "            print(\"EPOCH:\", i)\n",
    "            x_test, y_test = mnist.test.next_batch(250)\n",
    "            x_test = x_test.reshape(-1, 28, 28, 1)\n",
    "            out = sess.run(output_layer, feed_dict={X: x_test})\n",
    "            correct = sess.run(tf.equal(tf.argmax(out), tf.argmax(y_test)))\n",
    "            acc = sum(correct)/len(correct)\n",
    "            print(\"Accuracy:\", acc)\n",
    "        batch = mnist.train.next_batch(150)\n",
    "        sess.run(train, feed_dict={X: batch[0].reshape(-1, 28, 28, 1), Y: batch[1]})\n",
    "    \n",
    "    saver.save(sess, './save/mnist/save1.sd')\n",
    "    tf.train.write_graph(sess.graph_def, \"./save/mnist/log/\", \"save1.proto\", as_text=False)\n",
    "    tf.train.write_graph(sess.graph_def, \"./save/mnist/log\", \"save1.txt\", as_text=True)\n",
    "        \n",
    "        "
   ]
  },
  {
   "cell_type": "code",
   "execution_count": null,
   "metadata": {},
   "outputs": [],
   "source": []
  },
  {
   "cell_type": "code",
   "execution_count": null,
   "metadata": {},
   "outputs": [],
   "source": []
  },
  {
   "cell_type": "code",
   "execution_count": null,
   "metadata": {},
   "outputs": [],
   "source": []
  },
  {
   "cell_type": "code",
   "execution_count": null,
   "metadata": {},
   "outputs": [],
   "source": []
  },
  {
   "cell_type": "code",
   "execution_count": null,
   "metadata": {},
   "outputs": [],
   "source": []
  },
  {
   "cell_type": "code",
   "execution_count": null,
   "metadata": {
    "collapsed": true
   },
   "outputs": [],
   "source": []
  }
 ],
 "metadata": {
  "kernelspec": {
   "display_name": "Python 3",
   "language": "python",
   "name": "python3"
  },
  "language_info": {
   "codemirror_mode": {
    "name": "ipython",
    "version": 3
   },
   "file_extension": ".py",
   "mimetype": "text/x-python",
   "name": "python",
   "nbconvert_exporter": "python",
   "pygments_lexer": "ipython3",
   "version": "3.6.3"
  }
 },
 "nbformat": 4,
 "nbformat_minor": 2
}
